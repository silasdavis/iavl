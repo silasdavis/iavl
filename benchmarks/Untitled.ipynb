{
 "cells": [
  {
   "cell_type": "code",
   "execution_count": 1,
   "metadata": {},
   "outputs": [
    {
     "data": {
      "text/plain": [
       "[(['5', '5', '10', '10', '10', '10', 'goleveldb'], 12079, 6260, 66),\n",
       " (['10', '5', '10', '10', '10', '10', 'goleveldb'], 7555, 3684, 45),\n",
       " (['15', '5', '10', '10', '10', '10', 'goleveldb'], 11390, 6259, 66),\n",
       " (['5', '10', '10', '10', '10', '10', 'goleveldb'], 4113, 1848, 24),\n",
       " (['10', '10', '10', '10', '10', '10', 'goleveldb'], 8705, 3684, 45),\n",
       " (['15', '10', '10', '10', '10', '10', 'goleveldb'], 11375, 6259, 66),\n",
       " (['5', '15', '10', '10', '10', '10', 'goleveldb'], 5143, 1848, 24),\n",
       " (['10', '15', '10', '10', '10', '10', 'goleveldb'], 10133, 3684, 45),\n",
       " (['15', '15', '10', '10', '10', '10', 'goleveldb'], 11371, 6259, 66),\n",
       " (['5', '5', '10', '10', '10', '10', 'goleveldb'], 4332, 1848, 24),\n",
       " (['10', '5', '10', '10', '10', '10', 'goleveldb'], 10902, 3685, 45),\n",
       " (['15', '5', '10', '10', '10', '10', 'goleveldb'], 11354, 6259, 66),\n",
       " (['5', '10', '10', '10', '10', '10', 'goleveldb'], 4322, 1848, 24),\n",
       " (['10', '10', '10', '10', '10', '10', 'goleveldb'], 10450, 3684, 45),\n",
       " (['15', '10', '10', '10', '10', '10', 'goleveldb'], 11308, 6259, 66),\n",
       " (['5', '15', '10', '10', '10', '10', 'goleveldb'], 5331, 1848, 24),\n",
       " (['10', '15', '10', '10', '10', '10', 'goleveldb'], 8426, 3684, 45),\n",
       " (['15', '15', '10', '10', '10', '10', 'goleveldb'], 11429, 6259, 66)]"
      ]
     },
     "execution_count": 1,
     "metadata": {},
     "output_type": "execute_result"
    }
   ],
   "source": [
    "l = open(\"bench.log\",\"r\").read().split(\"\\n\")[5:-3]\n",
    "ts = [li.split(\"\\t\") for li in l]\n",
    "f = lambda s: int(\"\".join([i for i in s if i.isnumeric()]))\n",
    "\n",
    "k = lambda s: s[s.index(\"(\")+1:s.index(\")\")].split(\"_\")\n",
    "ts\n",
    "vs = [(k(ti[0]), f(ti[2]), f(ti[3]), f(ti[4])) for ti in ts]\n",
    "vs"
   ]
  },
  {
   "cell_type": "code",
   "execution_count": null,
   "metadata": {},
   "outputs": [],
   "source": []
  },
  {
   "cell_type": "code",
   "execution_count": null,
   "metadata": {},
   "outputs": [],
   "source": []
  }
 ],
 "metadata": {
  "kernelspec": {
   "display_name": "Python 3",
   "language": "python",
   "name": "python3"
  },
  "language_info": {
   "codemirror_mode": {
    "name": "ipython",
    "version": 3
   },
   "file_extension": ".py",
   "mimetype": "text/x-python",
   "name": "python",
   "nbconvert_exporter": "python",
   "pygments_lexer": "ipython3",
   "version": "3.6.4"
  }
 },
 "nbformat": 4,
 "nbformat_minor": 2
}
